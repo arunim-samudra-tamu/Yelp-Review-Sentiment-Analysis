{
 "cells": [
  {
   "cell_type": "code",
   "execution_count": 2,
   "metadata": {
    "id": "LtiQ0gyureQ3"
   },
   "outputs": [],
   "source": [
    "import pandas as pd\n",
    "import re\n",
    "import nltk\n",
    "from nltk.corpus import stopwords"
   ]
  },
  {
   "cell_type": "markdown",
   "metadata": {
    "id": "XaasUxzrTRTl"
   },
   "source": [
    "### (a) Data Preprocessing\n",
    "\n",
    "The first step before building our model is to preprocess the data. This involves removing the punctuation, removing the stop words and converting the text to lowercase. We will do this with the help of NLTK library.\n",
    "\n",
    "We will also convert the stars into three levels, Positive, Negative and Neutral."
   ]
  },
  {
   "cell_type": "code",
   "execution_count": 3,
   "metadata": {
    "colab": {
     "base_uri": "https://localhost:8080/"
    },
    "id": "u0KM7dncrkZt",
    "outputId": "0569e478-3fe0-4374-8223-11b6abaf11bd"
   },
   "outputs": [
    {
     "name": "stderr",
     "output_type": "stream",
     "text": [
      "[nltk_data] Downloading package stopwords to\n",
      "[nltk_data]     /Users/arunimsamudra/nltk_data...\n",
      "[nltk_data]   Package stopwords is already up-to-date!\n"
     ]
    },
    {
     "data": {
      "text/plain": [
       "True"
      ]
     },
     "execution_count": 3,
     "metadata": {},
     "output_type": "execute_result"
    }
   ],
   "source": [
    "# Download NLTK stopwords if not already downloaded\n",
    "nltk.download('stopwords')"
   ]
  },
  {
   "cell_type": "code",
   "execution_count": 4,
   "metadata": {
    "id": "GClOclArTU_K"
   },
   "outputs": [],
   "source": [
    "# Load the Yelp review dataset\n",
    "data = pd.read_csv('yelp_review_train.csv')"
   ]
  },
  {
   "cell_type": "code",
   "execution_count": 5,
   "metadata": {
    "colab": {
     "base_uri": "https://localhost:8080/",
     "height": 206
    },
    "id": "wShA3sSCTZGW",
    "outputId": "b8f7d524-94a4-47c5-8b5b-765f707ed027"
   },
   "outputs": [
    {
     "data": {
      "text/html": [
       "<div>\n",
       "<style scoped>\n",
       "    .dataframe tbody tr th:only-of-type {\n",
       "        vertical-align: middle;\n",
       "    }\n",
       "\n",
       "    .dataframe tbody tr th {\n",
       "        vertical-align: top;\n",
       "    }\n",
       "\n",
       "    .dataframe thead th {\n",
       "        text-align: right;\n",
       "    }\n",
       "</style>\n",
       "<table border=\"1\" class=\"dataframe\">\n",
       "  <thead>\n",
       "    <tr style=\"text-align: right;\">\n",
       "      <th></th>\n",
       "      <th>text</th>\n",
       "      <th>stars</th>\n",
       "    </tr>\n",
       "  </thead>\n",
       "  <tbody>\n",
       "    <tr>\n",
       "      <th>0</th>\n",
       "      <td>Went for lunch and found that my burger was me...</td>\n",
       "      <td>2.0</td>\n",
       "    </tr>\n",
       "    <tr>\n",
       "      <th>1</th>\n",
       "      <td>I needed a new tires for my wife's car. They h...</td>\n",
       "      <td>5.0</td>\n",
       "    </tr>\n",
       "    <tr>\n",
       "      <th>2</th>\n",
       "      <td>Jim Woltman who works at Goleta Honda is 5 sta...</td>\n",
       "      <td>5.0</td>\n",
       "    </tr>\n",
       "    <tr>\n",
       "      <th>3</th>\n",
       "      <td>Been here a few times to get some shrimp.  The...</td>\n",
       "      <td>4.0</td>\n",
       "    </tr>\n",
       "    <tr>\n",
       "      <th>4</th>\n",
       "      <td>This is one fantastic place to eat whether you...</td>\n",
       "      <td>5.0</td>\n",
       "    </tr>\n",
       "  </tbody>\n",
       "</table>\n",
       "</div>"
      ],
      "text/plain": [
       "                                                text  stars\n",
       "0  Went for lunch and found that my burger was me...    2.0\n",
       "1  I needed a new tires for my wife's car. They h...    5.0\n",
       "2  Jim Woltman who works at Goleta Honda is 5 sta...    5.0\n",
       "3  Been here a few times to get some shrimp.  The...    4.0\n",
       "4  This is one fantastic place to eat whether you...    5.0"
      ]
     },
     "execution_count": 5,
     "metadata": {},
     "output_type": "execute_result"
    }
   ],
   "source": [
    "data.head()"
   ]
  },
  {
   "cell_type": "code",
   "execution_count": 6,
   "metadata": {
    "id": "UqOXNeRJTeWP"
   },
   "outputs": [],
   "source": [
    "# Function to preprocess text\n",
    "def preprocess_text(text):\n",
    "    # Remove punctuation and convert text to lowercase\n",
    "    text = re.sub(r'[^\\w\\s]', '', text.lower())\n",
    "    return text"
   ]
  },
  {
   "cell_type": "code",
   "execution_count": 7,
   "metadata": {
    "id": "SmM4eU8dThgJ"
   },
   "outputs": [],
   "source": [
    "# Apply text preprocessing to the 'text' column\n",
    "data['processed_text'] = data['text'].apply(preprocess_text)"
   ]
  },
  {
   "cell_type": "code",
   "execution_count": 8,
   "metadata": {
    "id": "hioLp7jWTpo_"
   },
   "outputs": [],
   "source": [
    "# Remove stopwords using NLTK\n",
    "stop_words = set(stopwords.words('english'))\n",
    "data['processed_text'] = data['processed_text'].apply(lambda x: ' '.join([word for word in x.split() if word not in stop_words]))"
   ]
  },
  {
   "cell_type": "code",
   "execution_count": 9,
   "metadata": {
    "colab": {
     "base_uri": "https://localhost:8080/"
    },
    "id": "ZmdzZyyjTw93",
    "outputId": "36a007e8-993d-4686-9434-e2543587eefe"
   },
   "outputs": [
    {
     "name": "stdout",
     "output_type": "stream",
     "text": [
      "                                      processed_text sentiment\n",
      "0  went lunch found burger meh obvious focus burg...  Negative\n",
      "1  needed new tires wifes car special order next ...  Positive\n",
      "2  jim woltman works goleta honda 5 stars knowled...  Positive\n",
      "3  times get shrimp theyve got nice selection dif...  Positive\n",
      "4  one fantastic place eat whether hungry need go...  Positive\n"
     ]
    }
   ],
   "source": [
    "# Convert stars into three levels: Positive (> 3), Negative (<= 2), Neutral (= 3)\n",
    "def categorize_stars(stars):\n",
    "    if stars > 3:\n",
    "        return 'Positive'\n",
    "    elif stars <= 2:\n",
    "        return 'Negative'\n",
    "    else:\n",
    "        return 'Neutral'\n",
    "\n",
    "data['sentiment'] = data['stars'].apply(categorize_stars)\n",
    "\n",
    "# Display the processed data\n",
    "print(data[['processed_text', 'sentiment']].head())"
   ]
  },
  {
   "cell_type": "markdown",
   "metadata": {
    "id": "Jm9ZGNOWUA83"
   },
   "source": [
    "### (b) Input data preparation\n",
    "\n",
    "After preprocessing our text data, we need to convert our data into numbers, specifically tensors, since we will be using PyTorch. Theses tensors will be fed as input to out model for prediction."
   ]
  },
  {
   "cell_type": "code",
   "execution_count": 10,
   "metadata": {
    "id": "bSVDSgOGT_Ar"
   },
   "outputs": [],
   "source": [
    "import torch\n",
    "from torchtext.vocab import build_vocab_from_iterator\n",
    "from torch.nn.utils.rnn import pad_sequence"
   ]
  },
  {
   "cell_type": "code",
   "execution_count": 11,
   "metadata": {},
   "outputs": [],
   "source": [
    "# Only for Mac M2 Chip Devices\n",
    "torch.backends.mps.is_available()\n",
    "device = torch.device(\"mps\")"
   ]
  },
  {
   "cell_type": "markdown",
   "metadata": {},
   "source": [
    "First, we will generate tokens from the text which will be used to build our vocabulary."
   ]
  },
  {
   "cell_type": "code",
   "execution_count": 12,
   "metadata": {},
   "outputs": [],
   "source": [
    "preprocessed_text = data['processed_text'].tolist()\n",
    "sentiments = data['sentiment'].tolist()\n",
    "\n",
    "# Build vocabulary from the preprocessed reviews\n",
    "def yield_tokens(data):\n",
    "    for review in data:\n",
    "        yield review.split()\n",
    "\n",
    "vocab = build_vocab_from_iterator(yield_tokens(preprocessed_text), specials=['<pad>', '<unk>'])"
   ]
  },
  {
   "cell_type": "markdown",
   "metadata": {},
   "source": [
    "We will then numericalize tokens based on the vocabulary, pad reviews to a fixed length, and map sentiment labels to numerical values"
   ]
  },
  {
   "cell_type": "code",
   "execution_count": 13,
   "metadata": {
    "id": "EalhYqL5UuQN"
   },
   "outputs": [],
   "source": [
    "# Convert words to integers based on the vocabulary\n",
    "def numericalize_tokens(data, vocab):\n",
    "    numericalized = []\n",
    "    for review in data:\n",
    "        tokens = [vocab[token] if token in vocab else vocab['<unk>'] for token in review.split()]\n",
    "        numericalized.append(tokens)\n",
    "    return numericalized\n",
    "\n",
    "numericalized_reviews = numericalize_tokens(preprocessed_text, vocab)"
   ]
  },
  {
   "cell_type": "code",
   "execution_count": 14,
   "metadata": {
    "id": "8Dru0tNzU9Z0"
   },
   "outputs": [],
   "source": [
    "# Pad the reviews to a fixed length, here it is 100\n",
    "max_length = 100\n",
    "\n",
    "padded_reviews = [torch.tensor(review[:max_length] + [vocab['<pad>']] * (max_length - len(review))) for review in numericalized_reviews]"
   ]
  },
  {
   "cell_type": "markdown",
   "metadata": {},
   "source": [
    "Finally, we just need to convert them into PyTorch tensors."
   ]
  },
  {
   "cell_type": "code",
   "execution_count": 15,
   "metadata": {
    "colab": {
     "base_uri": "https://localhost:8080/"
    },
    "id": "C-_iiQcVVRgN",
    "outputId": "ffdd7cd0-368b-4dee-8f02-1042c32a1e8d"
   },
   "outputs": [
    {
     "name": "stdout",
     "output_type": "stream",
     "text": [
      "Shape of tensor_reviews: torch.Size([174757, 100])\n",
      "Shape of tensor_sentiments: torch.Size([174757])\n"
     ]
    }
   ],
   "source": [
    "# Convert sentiment labels to numerical values\n",
    "sentiment_mapping = {'Positive': 2, 'Neutral': 1, 'Negative': 0}\n",
    "numerical_sentiments = [sentiment_mapping[sentiment] for sentiment in sentiments]\n",
    "\n",
    "# Create tensors for reviews and sentiments\n",
    "tensor_reviews = torch.stack(padded_reviews)\n",
    "tensor_sentiments = torch.tensor(numerical_sentiments)\n",
    "\n",
    "# Display shapes of tensor_reviews and tensor_sentiments\n",
    "print(f\"Shape of tensor_reviews: {tensor_reviews.shape}\")\n",
    "print(f\"Shape of tensor_sentiments: {tensor_sentiments.shape}\")"
   ]
  },
  {
   "cell_type": "markdown",
   "metadata": {
    "id": "lWEHwwXFVpwR"
   },
   "source": [
    "### (c) Transformer Implementation\n",
    "\n",
    "In this section, we will implement a trasformer based only on the encoder. An encoder in a transformer consists of a Positional Embedding block, a Multi Head Attention block and a Feed Forward Network"
   ]
  },
  {
   "cell_type": "code",
   "execution_count": 57,
   "metadata": {
    "id": "e8pQSo0iVUgM"
   },
   "outputs": [],
   "source": [
    "# Import the required libraries\n",
    "import torch.nn as nn\n",
    "import torch.optim as optim\n",
    "import torch.utils.data as data\n",
    "import torch.nn.functional as F\n",
    "import math"
   ]
  },
  {
   "cell_type": "markdown",
   "metadata": {
    "id": "5u6ymzK_Wz5K"
   },
   "source": [
    "#### Positional Embedding\n",
    "\n",
    "Positional Embeddings are added to the input embeddings to encode information about the position of each token in the sequence. This allows the model to differentiate between tokens solely based on their position."
   ]
  },
  {
   "cell_type": "code",
   "execution_count": 58,
   "metadata": {
    "id": "r9ctVyP4WKIA"
   },
   "outputs": [],
   "source": [
    "class PositionalEmbedding(nn.Module):\n",
    "    def __init__(self, d_model, max_seq_length):\n",
    "        super(PositionalEmbedding, self).__init__()\n",
    "\n",
    "        # Tensor which will be populated with positional encodings\n",
    "        pe = torch.zeros(max_seq_length, d_model)\n",
    "        # Tensor containing the position indices for each position in the sequence.\n",
    "        position = torch.arange(0, max_seq_length, dtype=torch.float).unsqueeze(1)\n",
    "        div_term = torch.exp(torch.arange(0, d_model, 2).float() * -(math.log(10000.0) / d_model))\n",
    "\n",
    "        pe[:, 0::2] = torch.sin(position * div_term)\n",
    "        pe[:, 1::2] = torch.cos(position * div_term)\n",
    "\n",
    "        self.register_buffer('pe', pe.unsqueeze(0))\n",
    "\n",
    "    def forward(self, x):\n",
    "        return x + self.pe[:, :x.size(1)]"
   ]
  },
  {
   "cell_type": "markdown",
   "metadata": {},
   "source": [
    "We have created a class PositionEmbedding defined as a subclass of PyTorch's nn.Module.\n",
    "\n",
    "We have the following parameters in the constructor for this class-\n",
    "- `d_model`: the dimensionality of the model\n",
    "- `max_seq_length`: maximum length of the input sequence\n",
    "\n",
    "Inside the constructor. we initialize a tensor `pe` of shape `(max_seq_length, d_model)` with zeros. This tensor will be populated with positional embeddings. We then create a tensor `position` containing position indices for each position in the sequence, and `div_term` for exponential scaling.\n",
    "\n",
    "We populate the `pe` tensor with positional embeddings after calculating the sine and cosine values for each position and dimension.\n",
    "\n",
    "In the forward method of this class (forward pass), we add the positional embeddings (`self.pe`) to the input tensor `x`. The positional embeddings are sliced to match the length of the input sequence."
   ]
  },
  {
   "cell_type": "markdown",
   "metadata": {
    "id": "PwCnruxseHfX"
   },
   "source": [
    "#### MultiHead Attention\n",
    "\n",
    "The Multi-Head Attention block is a crucial component of the Transformer architecture, introduced to capture different aspects of the relationships between words in a sequence. The attention mechanism allows the model to focus on different parts of the input sequence when processing each word. Multi-Head Attention enhances this mechanism by using multiple attention heads in parallel, each learning different aspects of the relationships."
   ]
  },
  {
   "cell_type": "code",
   "execution_count": 59,
   "metadata": {
    "id": "B5Sof_CciBaU"
   },
   "outputs": [],
   "source": [
    "class MultiHeadAttention(nn.Module):\n",
    "    def __init__(self, d_model, num_heads):\n",
    "        super(MultiHeadAttention, self).__init__()\n",
    "        assert d_model % num_heads == 0\n",
    "        self.d_k = d_model // num_heads\n",
    "        self.num_heads = num_heads\n",
    "        self.linears = nn.ModuleList([nn.Linear(d_model, d_model) for _ in range(4)])\n",
    "\n",
    "    def attention(self, query, key, value, mask=None):\n",
    "        scores = torch.matmul(query, key.transpose(-2, -1)) / math.sqrt(self.d_k)\n",
    "        if mask is not None:\n",
    "            mask = mask.permute(1, 0, 2)  # Transpose the mask\n",
    "            mask = mask.unsqueeze(1).expand(-1, query.size(1), -1, -1)  # Expand the mask's dimensions\n",
    "        attention_weights = F.softmax(scores, dim=-1)\n",
    "        output = torch.matmul(attention_weights, value)\n",
    "        return output\n",
    "\n",
    "    def forward(self, query, key, value, mask=None):\n",
    "        batch_size = query.size(0)\n",
    "\n",
    "        # Apply linear transformation for each head\n",
    "        query, key, value = [l(x).view(batch_size, -1, self.num_heads, self.d_k).transpose(1, 2)\n",
    "                             for l, x in zip(self.linears, (query, key, value))]\n",
    "\n",
    "        # Perform attention\n",
    "        x = self.attention(query, key, value, mask=mask)\n",
    "\n",
    "        # Concatenate heads and apply final linear transformation\n",
    "        x = x.transpose(1, 2).contiguous().view(batch_size, -1, self.num_heads * self.d_k)\n",
    "        return self.linears[-1](x)"
   ]
  },
  {
   "cell_type": "markdown",
   "metadata": {},
   "source": [
    "We have created code a PyTorch module for a Multi-Head Attention block. It has the following parameters:\n",
    "\n",
    "- `d_model`: dimensionality of model\n",
    "- `num_heads`: number of attention heads\n",
    "\n",
    "We also check if `d_model` is divisible by `num_heads`. We then create a list of four linear layers (`linears`) using `nn.ModuleList`, each with input and output size `d_model`.\n",
    "\n",
    "The **Attention Method** takes `query`, `key`, and `value` as input tensors, representing the linear projections of the input sequences.\n",
    "We then compute the attention scores using scaled dot-product attention, calculate the attention weights using the softmax function and finally compute the weighted sum of values using the attention weights.\n",
    "\n",
    "The **Forward Method:** also takes `query`, `key`, and `value` as input tensors. We apply linear transformations to each input using the linear layers in `self.linears` and reshape them to have dimensions `(batch_size, num_heads, sequence_length, d_k)`. We then calculate the `attention` method to compute attention-weighted values. Finally, we concatenate the output from the attention heads and apply a final linear transformation to it."
   ]
  },
  {
   "cell_type": "markdown",
   "metadata": {},
   "source": [
    "#### Position Wise Feed Forward Network\n",
    "\n",
    "The Position Wise Feedforward Network is a component applied independently to each position in the sequence. It consists of two linear transformations with a non-linear activation function in between. The purpose of the Position-wise Feedforward Network is to introduce non-linearity and enable the model to capture complex relationships between different positions in the sequence."
   ]
  },
  {
   "cell_type": "code",
   "execution_count": 60,
   "metadata": {
    "id": "mW6ig-ZdeLrg"
   },
   "outputs": [],
   "source": [
    "class PositionWiseFeedForward(nn.Module):\n",
    "    def __init__(self, d_model, d_ff):\n",
    "        super(PositionWiseFeedForward, self).__init__()\n",
    "        self.fc1 = nn.Linear(d_model, d_ff)\n",
    "        self.fc2 = nn.Linear(d_ff, d_model)\n",
    "        self.relu = nn.ReLU()\n",
    "\n",
    "    def forward(self, x):\n",
    "        return self.fc2(self.relu(self.fc1(x)))"
   ]
  },
  {
   "cell_type": "markdown",
   "metadata": {},
   "source": [
    "#### Creating an Encoder Layer\n",
    "\n",
    "The subsequent stage involves the construction of the Encoder Layer, which incorporates a multi-head self-attention mechanism, followed by a position-wise feed-forward neural network, layer normalization, and appropriately applied dropout."
   ]
  },
  {
   "cell_type": "code",
   "execution_count": 61,
   "metadata": {
    "id": "XpPGufDHjLTF"
   },
   "outputs": [],
   "source": [
    "class EncoderLayer(nn.Module):\n",
    "    def __init__(self, d_model, num_heads, d_ff, dropout):\n",
    "        super(EncoderLayer, self).__init__()\n",
    "        self.self_attn = MultiHeadAttention(d_model, num_heads)\n",
    "        self.feed_forward = PositionWiseFeedForward(d_model, d_ff)\n",
    "        self.norm1 = nn.LayerNorm(d_model)\n",
    "        self.norm2 = nn.LayerNorm(d_model)\n",
    "        self.dropout = nn.Dropout(dropout)\n",
    "\n",
    "    def forward(self, x, mask):\n",
    "        attn_output = self.self_attn(x, x, x, mask)\n",
    "        x = self.norm1(x + self.dropout(attn_output))\n",
    "\n",
    "        ff_output = self.feed_forward(x)\n",
    "        x = self.norm2(x + self.dropout(ff_output))\n",
    "        return x"
   ]
  },
  {
   "cell_type": "markdown",
   "metadata": {},
   "source": [
    "Within the EncoderLayer class, a singular layer of the transformer's encoder is defined. The combination of these elements enables the encoder to discern intricate relationships within the input data and convert them into a meaningful representation for subsequent tasks. Typically, several such encoder layers are stacked to constitute the entire encoder section of a transformer model."
   ]
  },
  {
   "cell_type": "markdown",
   "metadata": {
    "id": "UQ1oiPoTfM-m"
   },
   "source": [
    "#### Transformer\n",
    "\n",
    "Our last step is to combine all the blocks to build our Transformer model."
   ]
  },
  {
   "cell_type": "code",
   "execution_count": 62,
   "metadata": {
    "id": "H4lbI5k9fDZr"
   },
   "outputs": [],
   "source": [
    "class Transformer(nn.Module):\n",
    "    def __init__(self, vocab_size, d_model=128, nhead=4, num_encoder_layers=3, dim_feedforward=512, max_seq_len=100, dropout=0.1):\n",
    "        super(Transformer, self).__init__()\n",
    "        self.embedding = nn.Embedding(vocab_size, d_model)\n",
    "        self.positional_encoding = PositionalEmbedding(d_model, max_seq_length=max_seq_len)\n",
    "\n",
    "        self.encoder_layers = nn.ModuleList([EncoderLayer(d_model, nhead, dim_feedforward, dropout) for _ in range(num_encoder_layers)])\n",
    "\n",
    "        self.fc = nn.Linear(d_model, 3)  # Output for three classes: Positive, Neutral, Negative\n",
    "\n",
    "    def forward(self, x):\n",
    "        x = self.embedding(x)\n",
    "        x = self.positional_encoding(x)\n",
    "        # Mask for padded tokens\n",
    "        mask = (x != 0).transpose(0, 1)  # Transpose the mask\n",
    "\n",
    "        for layer in self.encoder_layers:\n",
    "            x = layer(x, mask=mask)  # Pass the mask to each Transformer layer\n",
    "\n",
    "        x = x.mean(dim=1)  # Pooling: average across tokens\n",
    "        x = self.fc(x)\n",
    "        return x"
   ]
  },
  {
   "cell_type": "markdown",
   "metadata": {},
   "source": [
    "The Transformer class has the following parameters:\n",
    "- `vocab_size`: Size of the vocabulary.\n",
    "- `d_model`: Dimensionality of the model (default is 128).\n",
    "- `nhead`: Number of attention heads in the multi-head attention layer (default is 4).\n",
    "- `num_encoder_layers`: Number of encoder layers in the transformer (default is 3).\n",
    "- `dim_feedforward`: Dimensionality of the feedforward layer (default is 512).\n",
    "- `max_seq_len`: Maximum sequence length for positional encoding (default is 100).\n",
    "- `dropout`: Dropout probability (default is 0.1).\n",
    "\n",
    "Our model embeds input sequences using an embedding layer, applies positional encoding using a custom `PositionalEmbedding` class, utilizes multiple layers of a custom `EncoderLayer` in the encoder section and lastly employs a linear layer for the final output with three classes: Positive, Neutral, and Negative."
   ]
  },
  {
   "cell_type": "markdown",
   "metadata": {
    "id": "oa6blMy3fZxm"
   },
   "source": [
    "### (d) Model Training\n",
    "\n",
    "Finally, it's time for training."
   ]
  },
  {
   "cell_type": "code",
   "execution_count": 78,
   "metadata": {
    "id": "en2gSMhNfyew"
   },
   "outputs": [],
   "source": [
    "import pandas as pd\n",
    "from torch.utils.data import DataLoader, TensorDataset\n",
    "from sklearn.model_selection import train_test_split\n",
    "import matplotlib.pyplot as plt"
   ]
  },
  {
   "cell_type": "code",
   "execution_count": 79,
   "metadata": {
    "id": "R2A8gceOvmco"
   },
   "outputs": [],
   "source": [
    "# Split data into training and validation sets\n",
    "X_train, X_val, y_train, y_val = train_test_split(tensor_reviews, tensor_sentiments, test_size=0.1, random_state=42)"
   ]
  },
  {
   "cell_type": "code",
   "execution_count": 80,
   "metadata": {
    "id": "Akkl_dcZvwr1"
   },
   "outputs": [],
   "source": [
    "# Create DataLoader for training and validation sets\n",
    "batch_size = 128\n",
    "train_dataset = TensorDataset(X_train, y_train)\n",
    "train_loader = DataLoader(train_dataset, batch_size=batch_size, shuffle=True)\n",
    "\n",
    "val_dataset = TensorDataset(X_val, y_val)\n",
    "val_loader = DataLoader(val_dataset, batch_size=batch_size, shuffle=True)"
   ]
  },
  {
   "cell_type": "code",
   "execution_count": 91,
   "metadata": {},
   "outputs": [],
   "source": [
    "# Hyperparameters for the model\n",
    "d_model = 128\n",
    "num_heads = 4\n",
    "num_layers = 3\n",
    "d_ff = 256\n",
    "max_seq_length = 100\n",
    "dropout = 0.1\n",
    "# (The above hyperparameters were selected after some tuning over different values, \n",
    "#  have not included it here since it takes a lot of time to train the Transformer)"
   ]
  },
  {
   "cell_type": "code",
   "execution_count": 92,
   "metadata": {
    "id": "KYT2cl5fxqMD"
   },
   "outputs": [],
   "source": [
    "# Define the model, loss function, optimizer\n",
    "model = Transformer(vocab_size=len(vocab), d_model=d_model, nhead=num_heads, num_encoder_layers=num_layers, dim_feedforward=d_ff, max_seq_len=max_seq_length, dropout=dropout)\n",
    "criterion = nn.CrossEntropyLoss()\n",
    "optimizer = optim.SGD(model.parameters(), lr=0.001)"
   ]
  },
  {
   "cell_type": "code",
   "execution_count": 93,
   "metadata": {},
   "outputs": [],
   "source": [
    "# Set seed for reproducibility\n",
    "torch.manual_seed(42)\n",
    "torch.mps.manual_seed(42)"
   ]
  },
  {
   "cell_type": "markdown",
   "metadata": {},
   "source": [
    "We will perform training over 100 epochs"
   ]
  },
  {
   "cell_type": "code",
   "execution_count": 85,
   "metadata": {
    "colab": {
     "base_uri": "https://localhost:8080/"
    },
    "id": "7JEOYE2JyUs3",
    "outputId": "006d543e-5baf-4676-fe69-888c580db3a3"
   },
   "outputs": [
    {
     "name": "stdout",
     "output_type": "stream",
     "text": [
      "Epoch [1/100] - Loss: 0.8164 - Accuracy: 67.09%\n",
      "Validation Accuracy: 66.69%\n",
      "Epoch [2/100] - Loss: 0.8144 - Accuracy: 67.09%\n",
      "Validation Accuracy: 66.69%\n",
      "Epoch [3/100] - Loss: 0.8127 - Accuracy: 67.09%\n",
      "Validation Accuracy: 66.69%\n",
      "Epoch [4/100] - Loss: 0.8107 - Accuracy: 67.09%\n",
      "Validation Accuracy: 66.69%\n",
      "Epoch [5/100] - Loss: 0.8085 - Accuracy: 67.10%\n",
      "Validation Accuracy: 66.72%\n",
      "Epoch [6/100] - Loss: 0.8061 - Accuracy: 67.12%\n",
      "Validation Accuracy: 66.77%\n",
      "Epoch [7/100] - Loss: 0.8031 - Accuracy: 67.16%\n",
      "Validation Accuracy: 66.85%\n",
      "Epoch [8/100] - Loss: 0.7994 - Accuracy: 67.22%\n",
      "Validation Accuracy: 67.03%\n",
      "Epoch [9/100] - Loss: 0.7944 - Accuracy: 67.38%\n",
      "Validation Accuracy: 67.06%\n",
      "Epoch [10/100] - Loss: 0.7868 - Accuracy: 67.57%\n",
      "Validation Accuracy: 67.15%\n",
      "Epoch [11/100] - Loss: 0.7723 - Accuracy: 67.92%\n",
      "Validation Accuracy: 67.52%\n",
      "Epoch [12/100] - Loss: 0.7465 - Accuracy: 68.80%\n",
      "Validation Accuracy: 69.13%\n",
      "Epoch [13/100] - Loss: 0.7243 - Accuracy: 70.32%\n",
      "Validation Accuracy: 70.26%\n",
      "Epoch [14/100] - Loss: 0.6971 - Accuracy: 71.89%\n",
      "Validation Accuracy: 72.18%\n",
      "Epoch [15/100] - Loss: 0.6735 - Accuracy: 73.02%\n",
      "Validation Accuracy: 73.15%\n",
      "Epoch [16/100] - Loss: 0.6570 - Accuracy: 73.89%\n",
      "Validation Accuracy: 74.13%\n",
      "Epoch [17/100] - Loss: 0.6441 - Accuracy: 74.55%\n",
      "Validation Accuracy: 74.69%\n",
      "Epoch [18/100] - Loss: 0.6329 - Accuracy: 75.15%\n",
      "Validation Accuracy: 74.82%\n",
      "Epoch [19/100] - Loss: 0.6228 - Accuracy: 75.70%\n",
      "Validation Accuracy: 75.47%\n",
      "Epoch [20/100] - Loss: 0.6131 - Accuracy: 76.22%\n",
      "Validation Accuracy: 76.04%\n",
      "Epoch [21/100] - Loss: 0.6048 - Accuracy: 76.63%\n",
      "Validation Accuracy: 76.34%\n",
      "Epoch [22/100] - Loss: 0.5970 - Accuracy: 77.00%\n",
      "Validation Accuracy: 76.91%\n",
      "Epoch [23/100] - Loss: 0.5893 - Accuracy: 77.34%\n",
      "Validation Accuracy: 77.36%\n",
      "Epoch [24/100] - Loss: 0.5820 - Accuracy: 77.70%\n",
      "Validation Accuracy: 77.49%\n",
      "Epoch [25/100] - Loss: 0.5755 - Accuracy: 77.88%\n",
      "Validation Accuracy: 77.84%\n",
      "Epoch [26/100] - Loss: 0.5701 - Accuracy: 78.11%\n",
      "Validation Accuracy: 77.85%\n",
      "Epoch [27/100] - Loss: 0.5651 - Accuracy: 78.33%\n",
      "Validation Accuracy: 78.24%\n",
      "Epoch [28/100] - Loss: 0.5604 - Accuracy: 78.51%\n",
      "Validation Accuracy: 78.18%\n",
      "Epoch [29/100] - Loss: 0.5557 - Accuracy: 78.80%\n",
      "Validation Accuracy: 78.60%\n",
      "Epoch [30/100] - Loss: 0.5514 - Accuracy: 78.90%\n",
      "Validation Accuracy: 78.87%\n",
      "Epoch [31/100] - Loss: 0.5470 - Accuracy: 79.10%\n",
      "Validation Accuracy: 79.02%\n",
      "Epoch [32/100] - Loss: 0.5425 - Accuracy: 79.31%\n",
      "Validation Accuracy: 79.15%\n",
      "Epoch [33/100] - Loss: 0.5386 - Accuracy: 79.48%\n",
      "Validation Accuracy: 79.32%\n",
      "Epoch [34/100] - Loss: 0.5346 - Accuracy: 79.61%\n",
      "Validation Accuracy: 79.08%\n",
      "Epoch [35/100] - Loss: 0.5309 - Accuracy: 79.69%\n",
      "Validation Accuracy: 79.50%\n",
      "Epoch [36/100] - Loss: 0.5270 - Accuracy: 79.89%\n",
      "Validation Accuracy: 79.31%\n",
      "Epoch [37/100] - Loss: 0.5233 - Accuracy: 80.09%\n",
      "Validation Accuracy: 79.82%\n",
      "Epoch [38/100] - Loss: 0.5200 - Accuracy: 80.18%\n",
      "Validation Accuracy: 80.02%\n",
      "Epoch [39/100] - Loss: 0.5167 - Accuracy: 80.27%\n",
      "Validation Accuracy: 79.90%\n",
      "Epoch [40/100] - Loss: 0.5126 - Accuracy: 80.43%\n",
      "Validation Accuracy: 80.16%\n",
      "Epoch [41/100] - Loss: 0.5096 - Accuracy: 80.50%\n",
      "Validation Accuracy: 80.13%\n",
      "Epoch [42/100] - Loss: 0.5065 - Accuracy: 80.65%\n",
      "Validation Accuracy: 80.40%\n",
      "Epoch [43/100] - Loss: 0.5038 - Accuracy: 80.70%\n",
      "Validation Accuracy: 80.45%\n",
      "Epoch [44/100] - Loss: 0.5014 - Accuracy: 80.82%\n",
      "Validation Accuracy: 80.61%\n",
      "Epoch [45/100] - Loss: 0.4991 - Accuracy: 80.89%\n",
      "Validation Accuracy: 79.85%\n",
      "Epoch [46/100] - Loss: 0.4961 - Accuracy: 80.98%\n",
      "Validation Accuracy: 80.72%\n",
      "Epoch [47/100] - Loss: 0.4941 - Accuracy: 81.09%\n",
      "Validation Accuracy: 80.62%\n",
      "Epoch [48/100] - Loss: 0.4916 - Accuracy: 81.17%\n",
      "Validation Accuracy: 80.81%\n",
      "Epoch [49/100] - Loss: 0.4898 - Accuracy: 81.25%\n",
      "Validation Accuracy: 80.84%\n",
      "Epoch [50/100] - Loss: 0.4875 - Accuracy: 81.30%\n",
      "Validation Accuracy: 81.00%\n",
      "Epoch [51/100] - Loss: 0.4855 - Accuracy: 81.39%\n",
      "Validation Accuracy: 81.07%\n",
      "Epoch [52/100] - Loss: 0.4833 - Accuracy: 81.42%\n",
      "Validation Accuracy: 81.11%\n",
      "Epoch [53/100] - Loss: 0.4814 - Accuracy: 81.53%\n",
      "Validation Accuracy: 80.68%\n",
      "Epoch [54/100] - Loss: 0.4794 - Accuracy: 81.61%\n",
      "Validation Accuracy: 81.20%\n",
      "Epoch [55/100] - Loss: 0.4770 - Accuracy: 81.66%\n",
      "Validation Accuracy: 80.87%\n",
      "Epoch [56/100] - Loss: 0.4749 - Accuracy: 81.77%\n",
      "Validation Accuracy: 81.52%\n",
      "Epoch [57/100] - Loss: 0.4733 - Accuracy: 81.85%\n",
      "Validation Accuracy: 81.50%\n",
      "Epoch [58/100] - Loss: 0.4713 - Accuracy: 81.92%\n",
      "Validation Accuracy: 81.33%\n",
      "Epoch [59/100] - Loss: 0.4697 - Accuracy: 82.01%\n",
      "Validation Accuracy: 81.50%\n",
      "Epoch [60/100] - Loss: 0.4685 - Accuracy: 81.98%\n",
      "Validation Accuracy: 81.60%\n",
      "Epoch [61/100] - Loss: 0.4667 - Accuracy: 82.10%\n",
      "Validation Accuracy: 81.67%\n",
      "Epoch [62/100] - Loss: 0.4650 - Accuracy: 82.16%\n",
      "Validation Accuracy: 81.71%\n",
      "Epoch [63/100] - Loss: 0.4637 - Accuracy: 82.20%\n",
      "Validation Accuracy: 81.74%\n",
      "Epoch [64/100] - Loss: 0.4623 - Accuracy: 82.26%\n",
      "Validation Accuracy: 81.81%\n",
      "Epoch [65/100] - Loss: 0.4608 - Accuracy: 82.31%\n",
      "Validation Accuracy: 81.80%\n",
      "Epoch [66/100] - Loss: 0.4600 - Accuracy: 82.33%\n",
      "Validation Accuracy: 82.03%\n",
      "Epoch [67/100] - Loss: 0.4585 - Accuracy: 82.39%\n",
      "Validation Accuracy: 81.97%\n",
      "Epoch [68/100] - Loss: 0.4571 - Accuracy: 82.42%\n",
      "Validation Accuracy: 81.96%\n",
      "Epoch [69/100] - Loss: 0.4559 - Accuracy: 82.56%\n",
      "Validation Accuracy: 82.08%\n",
      "Epoch [70/100] - Loss: 0.4553 - Accuracy: 82.50%\n",
      "Validation Accuracy: 82.10%\n",
      "Epoch [71/100] - Loss: 0.4540 - Accuracy: 82.56%\n",
      "Validation Accuracy: 81.47%\n",
      "Epoch [72/100] - Loss: 0.4532 - Accuracy: 82.61%\n",
      "Validation Accuracy: 82.23%\n",
      "Epoch [73/100] - Loss: 0.4520 - Accuracy: 82.61%\n",
      "Validation Accuracy: 81.95%\n",
      "Epoch [74/100] - Loss: 0.4515 - Accuracy: 82.68%\n",
      "Validation Accuracy: 82.23%\n",
      "Epoch [75/100] - Loss: 0.4505 - Accuracy: 82.68%\n",
      "Validation Accuracy: 82.27%\n",
      "Epoch [76/100] - Loss: 0.4501 - Accuracy: 82.72%\n",
      "Validation Accuracy: 82.27%\n",
      "Epoch [77/100] - Loss: 0.4486 - Accuracy: 82.81%\n",
      "Validation Accuracy: 82.06%\n",
      "Epoch [78/100] - Loss: 0.4479 - Accuracy: 82.79%\n",
      "Validation Accuracy: 82.02%\n",
      "Epoch [79/100] - Loss: 0.4469 - Accuracy: 82.90%\n",
      "Validation Accuracy: 82.42%\n",
      "Epoch [80/100] - Loss: 0.4465 - Accuracy: 82.87%\n",
      "Validation Accuracy: 82.22%\n",
      "Epoch [81/100] - Loss: 0.4457 - Accuracy: 82.88%\n",
      "Validation Accuracy: 82.46%\n",
      "Epoch [82/100] - Loss: 0.4453 - Accuracy: 82.90%\n",
      "Validation Accuracy: 82.43%\n",
      "Epoch [83/100] - Loss: 0.4441 - Accuracy: 83.00%\n",
      "Validation Accuracy: 82.52%\n",
      "Epoch [84/100] - Loss: 0.4439 - Accuracy: 82.97%\n",
      "Validation Accuracy: 82.09%\n",
      "Epoch [85/100] - Loss: 0.4430 - Accuracy: 83.01%\n",
      "Validation Accuracy: 82.44%\n",
      "Epoch [86/100] - Loss: 0.4421 - Accuracy: 83.06%\n",
      "Validation Accuracy: 82.46%\n",
      "Epoch [87/100] - Loss: 0.4417 - Accuracy: 83.08%\n",
      "Validation Accuracy: 82.37%\n",
      "Epoch [88/100] - Loss: 0.4410 - Accuracy: 83.08%\n",
      "Validation Accuracy: 82.60%\n",
      "Epoch [89/100] - Loss: 0.4403 - Accuracy: 83.11%\n",
      "Validation Accuracy: 82.26%\n",
      "Epoch [90/100] - Loss: 0.4396 - Accuracy: 83.20%\n",
      "Validation Accuracy: 82.59%\n",
      "Epoch [91/100] - Loss: 0.4390 - Accuracy: 83.18%\n",
      "Validation Accuracy: 81.75%\n",
      "Epoch [92/100] - Loss: 0.4387 - Accuracy: 83.20%\n",
      "Validation Accuracy: 82.64%\n",
      "Epoch [93/100] - Loss: 0.4382 - Accuracy: 83.25%\n",
      "Validation Accuracy: 82.85%\n",
      "Epoch [94/100] - Loss: 0.4373 - Accuracy: 83.25%\n",
      "Validation Accuracy: 82.77%\n",
      "Epoch [95/100] - Loss: 0.4367 - Accuracy: 83.25%\n",
      "Validation Accuracy: 82.41%\n",
      "Epoch [96/100] - Loss: 0.4366 - Accuracy: 83.30%\n",
      "Validation Accuracy: 82.08%\n",
      "Epoch [97/100] - Loss: 0.4357 - Accuracy: 83.29%\n",
      "Validation Accuracy: 82.58%\n",
      "Epoch [98/100] - Loss: 0.4357 - Accuracy: 83.35%\n",
      "Validation Accuracy: 82.91%\n",
      "Epoch [99/100] - Loss: 0.4346 - Accuracy: 83.36%\n",
      "Validation Accuracy: 82.85%\n",
      "Epoch [100/100] - Loss: 0.4341 - Accuracy: 83.37%\n",
      "Validation Accuracy: 82.40%\n"
     ]
    }
   ],
   "source": [
    "# Training loop\n",
    "num_epochs = 100\n",
    "best_accuracy = 0.0\n",
    "train_losses = []\n",
    "train_accuracies = []\n",
    "val_accuracies = []\n",
    "\n",
    "for epoch in range(num_epochs):\n",
    "    model.train()\n",
    "    running_loss = 0.0\n",
    "    correct = 0\n",
    "    total = 0\n",
    "\n",
    "    for inputs, labels in train_loader:\n",
    "        optimizer.zero_grad()\n",
    "        outputs = model(inputs)\n",
    "        loss = criterion(outputs, labels)\n",
    "        loss.backward()\n",
    "        optimizer.step()\n",
    "\n",
    "        running_loss += loss.item()\n",
    "        _, predicted = torch.max(outputs, 1)\n",
    "        total += labels.size(0)\n",
    "        correct += (predicted == labels).sum().item()\n",
    "\n",
    "    epoch_loss = running_loss / len(train_loader)\n",
    "    epoch_accuracy = 100 * correct / total\n",
    "    train_losses.append(epoch_loss)\n",
    "    train_accuracies.append(epoch_accuracy)\n",
    "\n",
    "    print(f\"Epoch [{epoch + 1}/{num_epochs}] - Loss: {epoch_loss:.4f} - Accuracy: {epoch_accuracy:.2f}%\")\n",
    "\n",
    "    # Validation\n",
    "    model.eval()\n",
    "    correct_val = 0\n",
    "    total_val = 0\n",
    "\n",
    "    with torch.no_grad():\n",
    "        for val_inputs, val_labels in val_loader:\n",
    "            val_outputs = model(val_inputs)\n",
    "            _, predicted_val = torch.max(val_outputs, 1)\n",
    "            total_val += val_labels.size(0)\n",
    "            correct_val += (predicted_val == val_labels).sum().item()\n",
    "\n",
    "    val_accuracy = 100 * correct_val / total_val\n",
    "    val_accuracies.append(val_accuracy)\n",
    "    print(f\"Validation Accuracy: {val_accuracy:.2f}%\")\n",
    "\n",
    "    # Save the best model based on validation accuracy\n",
    "    if val_accuracy > best_accuracy:\n",
    "        best_accuracy = val_accuracy\n",
    "        torch.save(model.state_dict(), 'best_model.pth')"
   ]
  },
  {
   "cell_type": "code",
   "execution_count": 52,
   "metadata": {
    "id": "tmrg4WLjy299"
   },
   "outputs": [
    {
     "data": {
      "image/png": "[encoded data removed]",
      "text/plain": [
       "<Figure size 800x500 with 1 Axes>"
      ]
     },
     "metadata": {},
     "output_type": "display_data"
    }
   ],
   "source": [
    "# Plotting the training curve\n",
    "plt.figure(figsize=(8, 5))\n",
    "plt.plot(range(1, num_epochs + 1), train_accuracies, label='Training Accuracy')\n",
    "plt.plot(range(1, num_epochs + 1), val_accuracies, label='Validation Accuracy', color='orange')\n",
    "plt.xlabel('Epochs')\n",
    "plt.ylabel('Accuracy')\n",
    "plt.title('Training Accuracy Curve')\n",
    "plt.legend()\n",
    "plt.show()"
   ]
  },
  {
   "cell_type": "code",
   "execution_count": 86,
   "metadata": {},
   "outputs": [
    {
     "name": "stdout",
     "output_type": "stream",
     "text": [
      "Best Validation accuracy 82.90798809796291%\n"
     ]
    }
   ],
   "source": [
    "print(f\"Best Validation accuracy {best_accuracy}%\")"
   ]
  },
  {
   "cell_type": "markdown",
   "metadata": {},
   "source": [
    "Findings:\n",
    "\n",
    "- During the initial 15 epochs, there was a gradual increase in accuracy, indicating a slow learning phase.\n",
    "- Subsequently, there was a rapid surge in accuracy, jumping from approximately 68% to 82% by the 40th epoch.\n",
    "- Beyond the 40th epoch, the accuracy curve exhibited a plateau, suggesting a stabilization or saturation in model learning."
   ]
  },
  {
   "cell_type": "markdown",
   "metadata": {},
   "source": [
    "### (e) Result Analysis\n",
    "\n"
   ]
  },
  {
   "cell_type": "markdown",
   "metadata": {},
   "source": [
    "After we have finished training, it's time to test our model on the test dataset.\n",
    "\n",
    "First, we will load our best model."
   ]
  },
  {
   "cell_type": "code",
   "execution_count": 95,
   "metadata": {},
   "outputs": [
    {
     "data": {
      "text/plain": [
       "Transformer(\n",
       "  (embedding): Embedding(148266, 128)\n",
       "  (positional_encoding): PositionalEmbedding()\n",
       "  (encoder_layers): ModuleList(\n",
       "    (0-2): 3 x EncoderLayer(\n",
       "      (self_attn): MultiHeadAttention(\n",
       "        (linears): ModuleList(\n",
       "          (0-3): 4 x Linear(in_features=128, out_features=128, bias=True)\n",
       "        )\n",
       "      )\n",
       "      (feed_forward): PositionWiseFeedForward(\n",
       "        (fc1): Linear(in_features=128, out_features=256, bias=True)\n",
       "        (fc2): Linear(in_features=256, out_features=128, bias=True)\n",
       "        (relu): ReLU()\n",
       "      )\n",
       "      (norm1): LayerNorm((128,), eps=1e-05, elementwise_affine=True)\n",
       "      (norm2): LayerNorm((128,), eps=1e-05, elementwise_affine=True)\n",
       "      (dropout): Dropout(p=0.1, inplace=False)\n",
       "    )\n",
       "  )\n",
       "  (fc): Linear(in_features=128, out_features=3, bias=True)\n",
       ")"
      ]
     },
     "execution_count": 95,
     "metadata": {},
     "output_type": "execute_result"
    }
   ],
   "source": [
    "best_model = Transformer(vocab_size=len(vocab), d_model=d_model, nhead=num_heads, num_encoder_layers=num_layers, dim_feedforward=d_ff, max_seq_len=max_seq_length, dropout=dropout)\n",
    "best_model.load_state_dict(torch.load('best_model.pth'))  # Load the saved weights\n",
    "best_model.eval()  # Set the model to evaluation mode"
   ]
  },
  {
   "cell_type": "markdown",
   "metadata": {},
   "source": [
    "The test dataset will also be processed in the same way as training data"
   ]
  },
  {
   "cell_type": "code",
   "execution_count": 96,
   "metadata": {},
   "outputs": [],
   "source": [
    "test = pd.read_csv('yelp_review_test.csv')\n",
    "\n",
    "test['processed_text'] = test['text'].apply(preprocess_text)\n",
    "\n",
    "# Remove stopwords using NLTK\n",
    "stop_words = set(stopwords.words('english'))\n",
    "test['processed_text'] = test['processed_text'].apply(lambda x: ' '.join([word for word in x.split() if word not in stop_words]))\n",
    "test['sentiment'] = test['stars'].apply(categorize_stars)\n",
    "\n",
    "test_preprocessed_text = test['processed_text'].tolist()\n",
    "test_vocab = build_vocab_from_iterator(yield_tokens(test_preprocessed_text), specials=['<pad>', '<unk>'])\n",
    "\n",
    "test_numericalized_reviews = numericalize_tokens(test_preprocessed_text, test_vocab)\n",
    "test_sentiments = test['sentiment'].tolist()\n",
    "\n",
    "# Pad the reviews to a mean length\n",
    "max_length = 100\n",
    "test_padded_reviews = [torch.tensor(review[:max_length] + [vocab['<pad>']] * (max_length - len(review))) for review in test_numericalized_reviews]\n",
    "\n",
    "test_numerical_sentiments = [sentiment_mapping[sentiment] for sentiment in test_sentiments]\n",
    "\n",
    "test_tensor_reviews = torch.stack(test_padded_reviews)\n",
    "test_tensor_sentiments = torch.tensor(test_numerical_sentiments)"
   ]
  },
  {
   "cell_type": "code",
   "execution_count": 1,
   "metadata": {},
   "outputs": [
    {
     "name": "stdout",
     "output_type": "stream",
     "text": [
      "Accuracy on Test Set: 0.8135\n"
     ]
    }
   ],
   "source": [
    "# Assuming you have prepared the test dataset similarly to the training data\n",
    "test_dataset = TensorDataset(test_tensor_reviews, test_tensor_sentiments)\n",
    "test_loader = DataLoader(test_dataset, batch_size=batch_size)\n",
    "\n",
    "correct = 0\n",
    "total = 0\n",
    "\n",
    "with torch.no_grad():\n",
    "    for inputs, labels in test_loader:\n",
    "        outputs = best_model(inputs)\n",
    "        _, predicted = torch.max(outputs.data, 1)\n",
    "        total += labels.size(0)\n",
    "        correct += (predicted == labels).sum().item()\n",
    "\n",
    "test_accuracy = correct / total\n",
    "print(f\"Accuracy on Test Set: {test_accuracy:.4f}\")"
   ]
  },
  {
   "cell_type": "markdown",
   "metadata": {},
   "source": [
    "The accuracy of the test set was 81%\n",
    "\n",
    "The current model performance on the test dataset indicates a moderate level of effectiveness. To enhance our model's performance, we can consider fine-tuning certain hyperparameters. For instance, increasing the hidden dimension or adding more attention layers could potentially facilitate better learning of the underlying data patterns. <br>\n",
    "Also, there is a gap between the training and test accuracies. This could involve incorporating regularization techniques. Adjusting the dropout value or introducing additional batch normalization layers may prove beneficial in achieving a more balanced and generalized model performance. <br>\n",
    "By strategically tweaking these hyperparameters and regularization strategies, we aim to optimize our model's capability to understand and generalize from the data."
   ]
  },
  {
   "cell_type": "code",
   "execution_count": null,
   "metadata": {},
   "outputs": [],
   "source": []
  }
 ],
 "metadata": {
  "accelerator": "GPU",
  "colab": {
   "gpuType": "T4",
   "provenance": []
  },
  "kernelspec": {
   "display_name": "Python 3 (ipykernel)",
   "language": "python",
   "name": "python3"
  },
  "language_info": {
   "codemirror_mode": {
    "name": "ipython",
    "version": 3
   },
   "file_extension": ".py",
   "mimetype": "text/x-python",
   "name": "python",
   "nbconvert_exporter": "python",
   "pygments_lexer": "ipython3",
   "version": "3.10.10"
  }
 },
 "nbformat": 4,
 "nbformat_minor": 4
}
